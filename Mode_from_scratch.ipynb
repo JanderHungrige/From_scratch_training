{
 "cells": [
  {
   "cell_type": "markdown",
   "id": "functional-coral",
   "metadata": {},
   "source": [
    "# Aller Anfang ist leicht\n",
    "\n",
    "## 1.1 setze eine python enviroment auf und installiere \n",
    "- Tensorflow\n",
    "- pandas\n",
    "- numpy\n",
    "- matplolib\n",
    "- jupyter\n",
    "\n",
    "## 1.2 Mache Fotos\n",
    "- Verschiedener zoom\n",
    "- Verschiedene Lichtverhältnisse\n",
    "- Von allen Klassen etwa gleich viele\n",
    "\n",
    "## 1.3 Lege Sie in Ordner mit folgender Struktur\n",
    "\n",
    "Überordner mit subordner für jede Klasse \n",
    "\n",
    "Die Vorbereitungen sidn nun fertig. \n",
    "Fange nun mit dem Code an. \n",
    "\n",
    "## 2.1 importiere Libraries\n"
   ]
  },
  {
   "cell_type": "code",
   "execution_count": null,
   "id": "prescribed-columbus",
   "metadata": {},
   "outputs": [],
   "source": [
    "import tensorflow as tf\n",
    "from tensorflow.keras.models import Sequential\n",
    "from tensorflow.keras.layers import Dense, Dropout, Activation, Flatten, Conv2D, MaxPooling2D\n"
   ]
  },
  {
   "cell_type": "markdown",
   "id": "civilian-fundamental",
   "metadata": {},
   "source": [
    "## 2.2 Baue image data generatoren für training und test datensätze\n",
    "[Hier](https://www.tensorflow.org/api_docs/python/tf/keras/preprocessing/image/ImageDataGenerator) findest du die librariy zum nachsehen über alle werte die du einstellen kannst. Ich geben nur mal stadart werte vor"
   ]
  },
  {
   "cell_type": "code",
   "execution_count": null,
   "id": "relative-royalty",
   "metadata": {},
   "outputs": [],
   "source": [
    "Generator= tf.keras.preprocessing.image.ImageDataGenerator(\n",
    "    rescale=1./255,\n",
    "    zoom_range=0.15,\n",
    "    rotation_range=25,\n",
    "    width_shift_range=0.1,\n",
    "    height_shift_range=0.1,\n",
    "    shear_range=0.15,\n",
    "    horizontal_flip=True,\n",
    "    fill_mode=\"nearest\"\n",
    "    preprocessing_function=None, \n",
    "    validation_split=0.2\n",
    ")"
   ]
  },
  {
   "cell_type": "markdown",
   "id": "metric-darkness",
   "metadata": {},
   "source": [
    "## 2.3 Baue Model"
   ]
  },
  {
   "cell_type": "code",
   "execution_count": null,
   "id": "defined-stranger",
   "metadata": {},
   "outputs": [],
   "source": [
    "model = Sequential()\n",
    "\n",
    "# Conv2D( number_of_filters , kernal_size , input_shape(add this parameter just for the input conv layer))\n",
    "model.add(Conv2D(64 , (3,3) , input_shape = X.shape[1:] ))\n",
    "# define the activaion function for this layer\n",
    "model.add(Activation('relu'))\n",
    "# define the pooling for this layer\n",
    "model.add(MaxPooling2D(pool_size= (2,2)))\n",
    "\n",
    "model.add(Conv2D(64 , (3,3) ))\n",
    "# define the activaion function for this layer\n",
    "model.add(Activation('relu'))\n",
    "# define the pooling for this layer\n",
    "model.add(MaxPooling2D(pool_size= (2,2)))\n",
    "\n",
    "model.add(Flatten())\n",
    "model.add(Dense(64))\n",
    "\n",
    "model.add(Dropout(0.3))\n",
    "model.add(Dense(2), activation='softmax') # Gib deine Klassen als zahl an. Zwei Klassen = 2"
   ]
  },
  {
   "cell_type": "markdown",
   "id": "persistent-northeast",
   "metadata": {},
   "source": [
    "## 2.4 Compile Model"
   ]
  },
  {
   "cell_type": "code",
   "execution_count": null,
   "id": "particular-actor",
   "metadata": {},
   "outputs": [],
   "source": [
    "model.compile(loss = 'binary_crossentropy', \n",
    "                optimizer = 'adam', \n",
    "                metrics = ['accuracy'])"
   ]
  },
  {
   "cell_type": "markdown",
   "id": "sweet-trustee",
   "metadata": {},
   "source": [
    "## 2.5 Rufe jetzt die Generatoren auf\n",
    "\n",
    "!!! ÄNDERE HIER DIE PFADE ZU DEINEN ORDNERN \n",
    "\n",
    "- batch size sagt wieviele Bider auf einmal durchgejagt werden. WEnn dein RAM überläut kannst du das runtersetzen auf e.g. 8"
   ]
  },
  {
   "cell_type": "code",
   "execution_count": null,
   "id": "tracked-convenience",
   "metadata": {},
   "outputs": [],
   "source": [
    "train_generator = Generator.flow_from_directory(\n",
    "        'datafolderpath', \n",
    "        target_size=(150, 150),\n",
    "        batch_size=32,\n",
    "        class_mode='binary',\n",
    "        subset='training')\n",
    "validation_generator = Generator.flow_from_directory(\n",
    "        'datafolderpath',\n",
    "        target_size=(150, 150),\n",
    "        batch_size=32,\n",
    "        class_mode='binary',\n",
    "        subset='validation')\n"
   ]
  },
  {
   "cell_type": "markdown",
   "id": "renewable-stevens",
   "metadata": {},
   "source": [
    "## 2.6 Trainiere mit fit\n",
    "- epochs sind die Trainingsdurchläufe"
   ]
  },
  {
   "cell_type": "code",
   "execution_count": null,
   "id": "involved-brass",
   "metadata": {},
   "outputs": [],
   "source": [
    "history=model.fit(\n",
    "        train_generator,\n",
    "        steps_per_epoch=20,\n",
    "        epochs=50, \n",
    "        validation_data=validation_generator,\n",
    "        validation_steps=20)\n",
    "\n"
   ]
  },
  {
   "cell_type": "markdown",
   "id": "attempted-champagne",
   "metadata": {},
   "source": [
    "# 2.6 Plotte das training"
   ]
  },
  {
   "cell_type": "code",
   "execution_count": null,
   "id": "subtle-clark",
   "metadata": {},
   "outputs": [],
   "source": [
    "plt.plot(history.history['accuracy'], label='accuracy')\n",
    "plt.plot(history.history['val_accuracy'], label = 'val_accuracy')\n",
    "plt.xlabel('Epoch')\n",
    "plt.ylabel('Accuracy')\n",
    "plt.ylim([0.5, 1])\n",
    "plt.legend(loc='lower right')\n",
    "\n",
    "test_loss, test_acc = model.evaluate(test_images,  test_labels, verbose=2)\n"
   ]
  },
  {
   "cell_type": "markdown",
   "id": "intended-identification",
   "metadata": {},
   "source": [
    "## 2.7  Für 100%: Teste dein model mit einem koplett neuen Bild(ern)"
   ]
  },
  {
   "cell_type": "code",
   "execution_count": null,
   "id": "impressive-string",
   "metadata": {},
   "outputs": [],
   "source": [
    "# Evaluate the model on the test data using `evaluate`\n",
    "print(\"Evaluate on test data\")\n",
    "results = model.evaluate(x_test, y_test, batch_size=128)\n",
    "print(\"test loss, test acc:\", results)\n",
    "\n",
    "# Generate predictions (probabilities -- the output of the last layer)\n",
    "# on new data using `predict`\n",
    "print(\"Generate predictions for 3 samples\")\n",
    "predictions = model.predict(x_test[:3])\n",
    "print(\"predictions shape:\", predictions.shape)\n"
   ]
  },
  {
   "cell_type": "markdown",
   "id": "statutory-publisher",
   "metadata": {},
   "source": [
    "## 2.8 wenn alles gut save model"
   ]
  },
  {
   "cell_type": "code",
   "execution_count": null,
   "id": "mechanical-jacob",
   "metadata": {},
   "outputs": [],
   "source": [
    "model.save('myFirstCNN')"
   ]
  }
 ],
 "metadata": {
  "kernelspec": {
   "display_name": "Python 3",
   "language": "python",
   "name": "python3"
  },
  "language_info": {
   "codemirror_mode": {
    "name": "ipython",
    "version": 3
   },
   "file_extension": ".py",
   "mimetype": "text/x-python",
   "name": "python",
   "nbconvert_exporter": "python",
   "pygments_lexer": "ipython3",
   "version": "3.6.12"
  }
 },
 "nbformat": 4,
 "nbformat_minor": 5
}
